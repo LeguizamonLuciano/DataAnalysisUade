{
 "cells": [
  {
   "cell_type": "markdown",
   "metadata": {},
   "source": [
    "1. Define a procedure (function), `square`, that takes one number as its input, and **returns** the square of that number (result of multiplying the number by itself)."
   ]
  },
  {
   "cell_type": "code",
   "execution_count": null,
   "metadata": {},
   "outputs": [],
   "source": [
    "def square"
   ]
  },
  {
   "cell_type": "markdown",
   "metadata": {},
   "source": [
    "**input:** square(5)\n",
    "\n",
    "**expecteted output:** 25"
   ]
  },
  {
   "cell_type": "markdown",
   "metadata": {},
   "source": [
    "2. Define a procedure, `sum3`, that takes three inputs, and returns the sum of the three input numbers."
   ]
  },
  {
   "cell_type": "code",
   "execution_count": null,
   "metadata": {},
   "outputs": [],
   "source": [
    "'your_code_here'"
   ]
  },
  {
   "cell_type": "markdown",
   "metadata": {},
   "source": [
    "**input:** sum3(1,2,3)\n",
    "\n",
    "**expecteted output:** 6"
   ]
  },
  {
   "cell_type": "markdown",
   "metadata": {},
   "source": [
    "3. Replace the previous function, `sum3`, and modify it so it takes any number of parameters"
   ]
  },
  {
   "cell_type": "code",
   "execution_count": 1,
   "metadata": {},
   "outputs": [
    {
     "data": {
      "text/plain": [
       "8"
      ]
     },
     "execution_count": 1,
     "metadata": {},
     "output_type": "execute_result"
    }
   ],
   "source": [
    "def sum3 (*args):\n",
    "    suma = 0\n",
    "    for i in args:\n",
    "        suma = suma + i\n",
    "    return suma\n",
    "    \n",
    "sum3(3,2,3)"
   ]
  },
  {
   "cell_type": "markdown",
   "metadata": {},
   "source": [
    "**input:** sum3(1,2,3,4,5)\n",
    "\n",
    "**expecteted output:** 15"
   ]
  },
  {
   "cell_type": "markdown",
   "metadata": {},
   "source": [
    "4. Define a procedure, `biggest`, that takes any numbers as inputs and returns the largest of those three numbers."
   ]
  },
  {
   "cell_type": "code",
   "execution_count": 50,
   "metadata": {},
   "outputs": [
    {
     "name": "stdout",
     "output_type": "stream",
     "text": [
      "21\n"
     ]
    }
   ],
   "source": [
    "def biggest (*args): \n",
    "    print(max(*args))\n",
    "        \n",
    "biggest(-9,21,3)"
   ]
  },
  {
   "cell_type": "markdown",
   "metadata": {},
   "source": [
    "**input:** biggest(10,8,11,13,1)\n",
    "\n",
    "**expecteted output:** 13"
   ]
  },
  {
   "cell_type": "markdown",
   "metadata": {},
   "source": [
    "5. A palindrome is a word or a phrase that reads the same backwards as forwards. Make a program `is_palindrome` that checks if a word is a palindrome and prints the word. If the word is a palindrome, print True to the terminal, False otherwise. The function also has a boolean parameter called palindrome: if it's True, you will print the palindrome, otherwise it will print the input word.\n",
    "\n",
    "**HINT!**\n",
    "You can read a string backwards with the following syntax: `string[::-1]`"
   ]
  },
  {
   "cell_type": "code",
   "execution_count": 2,
   "metadata": {},
   "outputs": [
    {
     "name": "stdout",
     "output_type": "stream",
     "text": [
      "menxem\n"
     ]
    },
    {
     "data": {
      "text/plain": [
       "'menxem'"
      ]
     },
     "execution_count": 2,
     "metadata": {},
     "output_type": "execute_result"
    }
   ],
   "source": [
    "def is_palindrome (word21):\n",
    "    palindrome = True\n",
    "    if word == word[::-1]:\n",
    "        print(word)\n",
    "        return palindrome\n",
    "    else:\n",
    "        palindrome = False\n",
    "        print(word)\n",
    "        return word\n",
    "        \n",
    "is_palindrome(\"menxem\")"
   ]
  },
  {
   "cell_type": "markdown",
   "metadata": {},
   "source": [
    "**input:** is_palindrome('Neuquen', palindrome=False)\n",
    "\n",
    "**expecteted output:** neuquen: True"
   ]
  },
  {
   "cell_type": "markdown",
   "metadata": {},
   "source": [
    "6. Create a dictionary where keys are countries and values are capital cities of those cities. Use it with a for-loop, an if-else clause and use the method `.items()`"
   ]
  },
  {
   "cell_type": "code",
   "execution_count": 79,
   "metadata": {},
   "outputs": [
    {
     "name": "stdout",
     "output_type": "stream",
     "text": [
      "Argentina Buenos Aires\n",
      "Brasil Brasilia\n",
      "Chile Santiago de Chile\n",
      "Bolivia La Paz\n"
     ]
    },
    {
     "data": {
      "text/plain": [
       "{'Argentina': 'Buenos Aires',\n",
       " 'Brasil': 'Brasilia',\n",
       " 'Chile': 'Santiago de Chile',\n",
       " 'Bolivia': 'La Paz'}"
      ]
     },
     "execution_count": 79,
     "metadata": {},
     "output_type": "execute_result"
    }
   ],
   "source": [
    "dictionary =  {\"Argentina\":\"Buenos Aires\",\n",
    "              \"Brasil\":\"Brasilia\",\n",
    "              \"Chile\":\"Santiago de Chile\",\n",
    "              \"Bolivia\":\"La Paz\"}\n",
    "\n",
    "for x,y in dictionary.items():\n",
    "    print(x,y)\n",
    "\n",
    "dictionary"
   ]
  },
  {
   "cell_type": "markdown",
   "metadata": {},
   "source": [
    "7. Create a function, `geography`, that takes any given number of countries and capital cities. The function prints the key and the value as following `The capital city of country_name is capital_city`"
   ]
  },
  {
   "cell_type": "code",
   "execution_count": 2,
   "metadata": {},
   "outputs": [
    {
     "name": "stdout",
     "output_type": "stream",
     "text": [
      "The capital city of Argentina is Buenos Aires\n",
      "The capital city of Bolivia is La Paz\n"
     ]
    }
   ],
   "source": [
    "def geography (**cntrycptal):\n",
    "    for x,y in cntrycptal.items():\n",
    "        print(\"The capital city of\",x,\"is\",y)\n",
    "        \n",
    "geography(Argentina=\"Buenos Aires\",Bolivia=\"La Paz\")"
   ]
  },
  {
   "cell_type": "markdown",
   "metadata": {},
   "source": [
    "**input:** geography(france='paris')\n",
    "\n",
    "**expecteted output:** The capital city of Argentina is Buenos Aires"
   ]
  },
  {
   "cell_type": "markdown",
   "metadata": {},
   "source": [
    "8. Read the section `Modifying variables outside local scope` from notebook 06 and try to understand what the `global` clause do. Comment on QA your thoughts."
   ]
  },
  {
   "cell_type": "markdown",
   "metadata": {},
   "source": [
    "9. Import the module (library) `numpy` and rename it `np`. Then import `pyplot` from the library `matplotlib` and rename it as `plt`"
   ]
  },
  {
   "cell_type": "code",
   "execution_count": 3,
   "metadata": {},
   "outputs": [],
   "source": [
    "import numpy as np\n",
    "import matplotlib.pyplot as plt"
   ]
  },
  {
   "cell_type": "markdown",
   "metadata": {},
   "source": [
    "10. Read `04. Tipos y Estructuras de Datos` and try to understand the sections `SETS` and `Write a basic list comprehension`."
   ]
  },
  {
   "cell_type": "code",
   "execution_count": 4,
   "metadata": {},
   "outputs": [
    {
     "name": "stdout",
     "output_type": "stream",
     "text": [
      "[0, 2, 4, 6, 8, 10, 12, 14, 16, 18, 20, 22, 24, 26, 28, 30, 32, 34, 36, 38, 40, 42, 44, 46, 48, 50, 52, 54, 56, 58, 60, 62, 64, 66, 68, 70, 72, 74, 76, 78, 80, 82, 84, 86, 88, 90, 92, 94, 96, 98]\n"
     ]
    }
   ],
   "source": [
    "print([x for x in range(100) if x%2 == 0])"
   ]
  }
 ],
 "metadata": {
  "kernelspec": {
   "display_name": "Python 3",
   "language": "python",
   "name": "python3"
  },
  "language_info": {
   "codemirror_mode": {
    "name": "ipython",
    "version": 3
   },
   "file_extension": ".py",
   "mimetype": "text/x-python",
   "name": "python",
   "nbconvert_exporter": "python",
   "pygments_lexer": "ipython3",
   "version": "3.8.5"
  }
 },
 "nbformat": 4,
 "nbformat_minor": 4
}
