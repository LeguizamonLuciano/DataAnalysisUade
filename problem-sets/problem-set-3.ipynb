{
 "cells": [
  {
   "cell_type": "markdown",
   "metadata": {},
   "source": [
    "1. Use a function, `square_root` which takes a number as input and outputs the square root of that number, and convert it to a lambda function.\n",
    "\n",
    "`def square_root(num):\n",
    "    return num ** (1/2)`"
   ]
  },
  {
   "cell_type": "code",
   "execution_count": 2,
   "metadata": {},
   "outputs": [
    {
     "data": {
      "text/plain": [
       "2.0"
      ]
     },
     "execution_count": 2,
     "metadata": {},
     "output_type": "execute_result"
    }
   ],
   "source": [
    "square_root = lambda x:x**(1/2)\n",
    "square_root(4)"
   ]
  },
  {
   "cell_type": "markdown",
   "metadata": {},
   "source": [
    "**expected output:** 2.0"
   ]
  },
  {
   "cell_type": "markdown",
   "metadata": {},
   "source": [
    "2. Map the lambda function you just created to the list `nums` and create a list called `squared_root_nums`.\n",
    "\n",
    "**HINT:** remember what the `*` does on, foe example, `[*range(5)]` instead of `[range(5)]`"
   ]
  },
  {
   "cell_type": "code",
   "execution_count": 28,
   "metadata": {},
   "outputs": [
    {
     "name": "stdout",
     "output_type": "stream",
     "text": [
      "[2.0, 3.0, 4.0, 5.0, 6.0, 7.0, 8.0, 9.0]\n"
     ]
    }
   ],
   "source": [
    "nums = [4, 9, 16, 25, 36, 49, 64, 81]\n",
    "squared_root_nums = map(lambda x:x**(1/2),nums)\n",
    "print(list(squared_root_nums))"
   ]
  },
  {
   "cell_type": "markdown",
   "metadata": {},
   "source": [
    "**expected output:** [2.0, 3.0, 4.0, 5.0, 6.0, 7.0, 8.0, 9.0]"
   ]
  },
  {
   "cell_type": "markdown",
   "metadata": {},
   "source": [
    "3. Replicate problem 2, but instead use a list comprehension."
   ]
  },
  {
   "cell_type": "code",
   "execution_count": 39,
   "metadata": {},
   "outputs": [
    {
     "data": {
      "text/plain": [
       "[2.0, 3.0, 4.0, 5.0, 6.0, 7.0, 8.0, 9.0]"
      ]
     },
     "execution_count": 39,
     "metadata": {},
     "output_type": "execute_result"
    }
   ],
   "source": [
    "nums = [4, 9, 16, 25, 36, 49, 64, 81]\n",
    "squared_root_nums = [(x**(1/2)) for x in nums]\n",
    "squared_root_nums"
   ]
  },
  {
   "cell_type": "markdown",
   "metadata": {},
   "source": [
    "**expected output:** [2.0, 3.0, 4.0, 5.0, 6.0, 7.0, 8.0, 9.0]"
   ]
  },
  {
   "cell_type": "markdown",
   "metadata": {},
   "source": [
    "4. Filter the list `tweets` using a lambda function. Keep a tweet if it has an `@`"
   ]
  },
  {
   "cell_type": "code",
   "execution_count": 81,
   "metadata": {},
   "outputs": [
    {
     "name": "stdout",
     "output_type": "stream",
     "text": [
      "['@lola9 @fede4 I have a #goodfeeling', 'the show is going to be #amazing! @ww1w @kirito1']\n"
     ]
    }
   ],
   "source": [
    "tweets = ['@lola9 @fede4 I have a #goodfeeling', 'the show is going to be #amazing! @ww1w @kirito1', 'It was #thebestshowever']\n",
    "\n",
    "filtered_nums = filter(lambda x:\"@\"in x,tweets)\n",
    "\n",
    "print(list(filtered_nums))"
   ]
  },
  {
   "cell_type": "markdown",
   "metadata": {},
   "source": [
    "**expected output:** ['@lola9 @fede4 I have a #goodfeeling','the show is going to be #amazing! @ww1w @kirito1']"
   ]
  },
  {
   "cell_type": "markdown",
   "metadata": {},
   "source": [
    "5. Import the library `re`. Use a regex to extract all the mentions from the list `tweets` and another to get all the hahstags\n",
    "\n",
    "Some helpful metacharacters to help you later:\n",
    "\n",
    "- `\\d`: digit\n",
    "- `\\w`: word character\n",
    "- `\\W`: non-word character\n",
    "- `\\s`: whitespace\n",
    "\n",
    "**HINT:** Use a for-loop to iterate over the tweets!"
   ]
  },
  {
   "cell_type": "code",
   "execution_count": 74,
   "metadata": {},
   "outputs": [],
   "source": [
    "import re"
   ]
  },
  {
   "cell_type": "code",
   "execution_count": 105,
   "metadata": {},
   "outputs": [
    {
     "name": "stdout",
     "output_type": "stream",
     "text": [
      "['@lola9', '@fede4', '@ww1w', '@kirito1']\n",
      "['#goodfeeling', '#amazing', '#thebestshowever']\n",
      "\n",
      "\n"
     ]
    }
   ],
   "source": [
    "tweets = '@lola9 @fede4 I have a #goodfeeling. the show is going to be #amazing! @ww1w @kirito1. It was #thebestshowever'\n",
    "\n",
    "regex_mention = r\"@\\b\\w+\"\n",
    "regex_hashtag = \"#\\w+\"\n",
    "\n",
    "for i in range(1):\n",
    "    # Write regex to match user mentions/hashtags and print out result\n",
    "    print(re.findall(regex_mention,tweets)) # mentions\n",
    "    print(re.findall(regex_hashtag,tweets)) # hashtags\n",
    "    print('\\n')"
   ]
  },
  {
   "cell_type": "markdown",
   "metadata": {},
   "source": [
    "**expected result:** \n",
    "`['@lola9', '@fede4']`\n",
    "`['#goodfeeling']`\n",
    "\n",
    "\n",
    "`['@ww1w', '@kirito1']`\n",
    "`['#amazing']`\n",
    "\n",
    "\n",
    "`[]`\n",
    "`['#thebestshowever']`"
   ]
  },
  {
   "cell_type": "markdown",
   "metadata": {},
   "source": [
    "6. Create a function called `show_hastags` that takes a list of tweets and prints out every hashtag contained on that tweet one at a time. Also, use a `try-except` clause to catch potential errors on the tweets."
   ]
  },
  {
   "cell_type": "code",
   "execution_count": null,
   "metadata": {},
   "outputs": [],
   "source": [
    "tweets = ['@lola9 @fede4 I have a #goodfeeling', 123, 'It was #thebestshow #ever']\n",
    "\n",
    "def show_hashtags(tweets_list):\n",
    "    regex_hashtag = \"'your_code_here'\"\n",
    "    for tweet in 'your_code_here':\n",
    "        'your_code_here':\n",
    "            hashtags = re.findall('your_code_here', 'your_code_here')\n",
    "            for 'your_code_here' in 'your_code_here':\n",
    "                print(hashtag)\n",
    "        'your_code_here' TypeError as e:\n",
    "            print('The tweet: \"' + str(tweet) + '\" is not compatible. Please, try again. Error = ' + str(e))\n",
    "        print('\\n')\n",
    "        \n",
    "show_hashtags(tweets)"
   ]
  },
  {
   "cell_type": "markdown",
   "metadata": {},
   "source": [
    "**expected output:** `#goodfeeling`\n",
    "\n",
    "\n",
    "`The tweet: \"123\" is not compatible. Please, try again. Error = expected string or bytes-like object`\n",
    "\n",
    "\n",
    "`#thebestshowever`\n",
    "`#ever`"
   ]
  },
  {
   "cell_type": "markdown",
   "metadata": {},
   "source": [
    "7. Using `set`, try to find the stores that churned (stores that no longer buys from you)."
   ]
  },
  {
   "cell_type": "code",
   "execution_count": 2,
   "metadata": {},
   "outputs": [],
   "source": [
    "invoices_in_2019 = ['store_0','store_1','store_0','store_3','store_4','store_0','store_1','store_7','store_0','store_1','store_0','store_6','store_12','store_13','store_6']\n",
    "invoices_in_2020 = ['store_1','store_1','store_2','store_5','store_1','store_5','store_10','store_7','store_1','store_9','store_10','store_11','store_5','store_13','store_10']\n",
    "\n",
    "set_2019 = 'your_code_here'('your_code_here')\n",
    "set_2020 = set('your_code_here')"
   ]
  },
  {
   "cell_type": "code",
   "execution_count": 7,
   "metadata": {},
   "outputs": [
    {
     "data": {
      "text/plain": [
       "'your_code_here'"
      ]
     },
     "execution_count": 7,
     "metadata": {},
     "output_type": "execute_result"
    }
   ],
   "source": [
    "'your_code_here'"
   ]
  },
  {
   "cell_type": "markdown",
   "metadata": {},
   "source": [
    "**expected output:** `{'store_0', 'store_12', 'store_3', 'store_4', 'store_6'}`"
   ]
  }
 ],
 "metadata": {
  "kernelspec": {
   "display_name": "Python 3",
   "language": "python",
   "name": "python3"
  },
  "language_info": {
   "codemirror_mode": {
    "name": "ipython",
    "version": 3
   },
   "file_extension": ".py",
   "mimetype": "text/x-python",
   "name": "python",
   "nbconvert_exporter": "python",
   "pygments_lexer": "ipython3",
   "version": "3.7.4"
  }
 },
 "nbformat": 4,
 "nbformat_minor": 4
}
