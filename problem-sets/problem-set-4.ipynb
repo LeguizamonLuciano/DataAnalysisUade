{
 "cells": [
  {
   "cell_type": "markdown",
   "metadata": {},
   "source": [
    "1. Using the dataset `digits.csv` ty to find an `im` that when plotted is a `3`"
   ]
  },
  {
   "cell_type": "code",
   "execution_count": 1,
   "metadata": {},
   "outputs": [],
   "source": [
    "import numpy as np\n",
    "import matplotlib.pyplot as plt"
   ]
  },
  {
   "cell_type": "code",
   "execution_count": 2,
   "metadata": {},
   "outputs": [],
   "source": [
    "# Assign filename to variable: file\n",
    "file = '../data/13. Importando datos en Python/digits.csv'\n",
    "\n",
    "# Load file as array: digits\n",
    "digits = np.loadtxt(file, delimiter=',')"
   ]
  },
  {
   "cell_type": "code",
   "execution_count": 16,
   "metadata": {},
   "outputs": [
    {
     "data": {
      "image/png": "[encoded data removed]",
      "text/plain": [
       "<Figure size 432x288 with 1 Axes>"
      ]
     },
     "metadata": {
      "needs_background": "light"
     },
     "output_type": "display_data"
    }
   ],
   "source": [
    "### Select and reshape a row\n",
    "im = digits[7, 1:]\n",
    "im_sq = np.reshape(im, (28, 28))\n",
    "\n",
    "# Plot reshaped data (matplotlib.pyplot already loaded as plt)\n",
    "plt.imshow(im_sq, cmap='Greys', interpolation='nearest')\n",
    "plt.show()"
   ]
  },
  {
   "cell_type": "markdown",
   "metadata": {},
   "source": [
    "2. Load the dataset `baby.csv` using pandas."
   ]
  },
  {
   "cell_type": "code",
   "execution_count": 2,
   "metadata": {},
   "outputs": [],
   "source": [
    "import pandas as pd"
   ]
  },
  {
   "cell_type": "code",
   "execution_count": 5,
   "metadata": {},
   "outputs": [
    {
     "data": {
      "text/html": [
       "<div>\n",
       "<style scoped>\n",
       "    .dataframe tbody tr th:only-of-type {\n",
       "        vertical-align: middle;\n",
       "    }\n",
       "\n",
       "    .dataframe tbody tr th {\n",
       "        vertical-align: top;\n",
       "    }\n",
       "\n",
       "    .dataframe thead th {\n",
       "        text-align: right;\n",
       "    }\n",
       "</style>\n",
       "<table border=\"1\" class=\"dataframe\">\n",
       "  <thead>\n",
       "    <tr style=\"text-align: right;\">\n",
       "      <th></th>\n",
       "      <th>BRITH_YEAR</th>\n",
       "      <th>GENDER</th>\n",
       "      <th>ETHNICTY</th>\n",
       "      <th>NAME</th>\n",
       "      <th>COUNT</th>\n",
       "      <th>RANK</th>\n",
       "    </tr>\n",
       "  </thead>\n",
       "  <tbody>\n",
       "    <tr>\n",
       "      <th>0</th>\n",
       "      <td>2011</td>\n",
       "      <td>FEMALE</td>\n",
       "      <td>HISPANIC</td>\n",
       "      <td>GERALDINE</td>\n",
       "      <td>13</td>\n",
       "      <td>75</td>\n",
       "    </tr>\n",
       "    <tr>\n",
       "      <th>1</th>\n",
       "      <td>2011</td>\n",
       "      <td>FEMALE</td>\n",
       "      <td>HISPANIC</td>\n",
       "      <td>GIA</td>\n",
       "      <td>21</td>\n",
       "      <td>67</td>\n",
       "    </tr>\n",
       "    <tr>\n",
       "      <th>2</th>\n",
       "      <td>2011</td>\n",
       "      <td>FEMALE</td>\n",
       "      <td>HISPANIC</td>\n",
       "      <td>GIANNA</td>\n",
       "      <td>49</td>\n",
       "      <td>42</td>\n",
       "    </tr>\n",
       "    <tr>\n",
       "      <th>3</th>\n",
       "      <td>2011</td>\n",
       "      <td>FEMALE</td>\n",
       "      <td>HISPANIC</td>\n",
       "      <td>GISELLE</td>\n",
       "      <td>38</td>\n",
       "      <td>51</td>\n",
       "    </tr>\n",
       "    <tr>\n",
       "      <th>4</th>\n",
       "      <td>2011</td>\n",
       "      <td>FEMALE</td>\n",
       "      <td>HISPANIC</td>\n",
       "      <td>GRACE</td>\n",
       "      <td>36</td>\n",
       "      <td>53</td>\n",
       "    </tr>\n",
       "  </tbody>\n",
       "</table>\n",
       "</div>"
      ],
      "text/plain": [
       "   BRITH_YEAR  GENDER  ETHNICTY       NAME  COUNT  RANK\n",
       "0        2011  FEMALE  HISPANIC  GERALDINE     13    75\n",
       "1        2011  FEMALE  HISPANIC        GIA     21    67\n",
       "2        2011  FEMALE  HISPANIC     GIANNA     49    42\n",
       "3        2011  FEMALE  HISPANIC    GISELLE     38    51\n",
       "4        2011  FEMALE  HISPANIC      GRACE     36    53"
      ]
     },
     "execution_count": 5,
     "metadata": {},
     "output_type": "execute_result"
    }
   ],
   "source": [
    "df = pd.read_csv('../data/13. Importando datos en Python/baby.csv')\n",
    "df.head()"
   ]
  },
  {
   "cell_type": "markdown",
   "metadata": {},
   "source": [
    "3. List all sheets from the file `medals_opened.xlsx` and save the sheet `Gold` to `gold` and show the first 10 rows using `.head()`. Also, make sure to change the names of the columns to `Country` and `Total Gold Medals`."
   ]
  },
  {
   "cell_type": "code",
   "execution_count": 5,
   "metadata": {},
   "outputs": [
    {
     "name": "stdout",
     "output_type": "stream",
     "text": [
      "['Total', 'Gold', 'Silver', 'Bronze']\n"
     ]
    }
   ],
   "source": [
    "# Assign spreadsheet filename: file\n",
    "file = '../data/23. Manipulando dataframes/medals_opened.xlsx'\n",
    "\n",
    "# Load spreadsheet: xl\n",
    "xl = pd.ExcelFile(file)\n",
    "\n",
    "# Print sheet names\n",
    "print(xl.sheet_names)"
   ]
  },
  {
   "cell_type": "code",
   "execution_count": 12,
   "metadata": {},
   "outputs": [
    {
     "data": {
      "text/html": [
       "<div>\n",
       "<style scoped>\n",
       "    .dataframe tbody tr th:only-of-type {\n",
       "        vertical-align: middle;\n",
       "    }\n",
       "\n",
       "    .dataframe tbody tr th {\n",
       "        vertical-align: top;\n",
       "    }\n",
       "\n",
       "    .dataframe thead th {\n",
       "        text-align: right;\n",
       "    }\n",
       "</style>\n",
       "<table border=\"1\" class=\"dataframe\">\n",
       "  <thead>\n",
       "    <tr style=\"text-align: right;\">\n",
       "      <th></th>\n",
       "      <th>Country</th>\n",
       "      <th>Total Gold Medals</th>\n",
       "    </tr>\n",
       "  </thead>\n",
       "  <tbody>\n",
       "    <tr>\n",
       "      <th>0</th>\n",
       "      <td>USA</td>\n",
       "      <td>930</td>\n",
       "    </tr>\n",
       "    <tr>\n",
       "      <th>1</th>\n",
       "      <td>NaN</td>\n",
       "      <td>395</td>\n",
       "    </tr>\n",
       "    <tr>\n",
       "      <th>2</th>\n",
       "      <td>GER</td>\n",
       "      <td>247</td>\n",
       "    </tr>\n",
       "    <tr>\n",
       "      <th>3</th>\n",
       "      <td>GBR</td>\n",
       "      <td>207</td>\n",
       "    </tr>\n",
       "    <tr>\n",
       "      <th>4</th>\n",
       "      <td>FRA</td>\n",
       "      <td>192</td>\n",
       "    </tr>\n",
       "    <tr>\n",
       "      <th>5</th>\n",
       "      <td>ITA</td>\n",
       "      <td>190</td>\n",
       "    </tr>\n",
       "    <tr>\n",
       "      <th>6</th>\n",
       "      <td>SWE</td>\n",
       "      <td>142</td>\n",
       "    </tr>\n",
       "    <tr>\n",
       "      <th>7</th>\n",
       "      <td>HUN</td>\n",
       "      <td>159</td>\n",
       "    </tr>\n",
       "    <tr>\n",
       "      <th>8</th>\n",
       "      <td>AUS</td>\n",
       "      <td>131</td>\n",
       "    </tr>\n",
       "    <tr>\n",
       "      <th>9</th>\n",
       "      <td>NaN</td>\n",
       "      <td>153</td>\n",
       "    </tr>\n",
       "  </tbody>\n",
       "</table>\n",
       "</div>"
      ],
      "text/plain": [
       "  Country  Total Gold Medals\n",
       "0     USA                930\n",
       "1     NaN                395\n",
       "2     GER                247\n",
       "3     GBR                207\n",
       "4     FRA                192\n",
       "5     ITA                190\n",
       "6     SWE                142\n",
       "7     HUN                159\n",
       "8     AUS                131\n",
       "9     NaN                153"
      ]
     },
     "execution_count": 12,
     "metadata": {},
     "output_type": "execute_result"
    }
   ],
   "source": [
    "# Load a sheet into a DataFrame by name: gold\n",
    "gold = xl.parse('Gold',names=(['Country','Total Gold Medals']))\n",
    "gold.head(10)"
   ]
  },
  {
   "cell_type": "markdown",
   "metadata": {},
   "source": [
    "4. Convert the `fifa` list to a numpy array `np_fifa`. Then create a numpy array called `np_weights` using the `np_fifa` array (remember to cast them to `float`). Then, check if the weights of the right GK is different from left GK (at least on their medians). Why would we use median instead of mean?"
   ]
  },
  {
   "cell_type": "code",
   "execution_count": 13,
   "metadata": {},
   "outputs": [],
   "source": [
    "fifa = [[69, 'GK', 191, ' Right'],[64, 'GK', 193, ' Right'],[65, 'GK', 190, ' Right'],[67, 'D', 178, ' Right'],\n",
    "        [61, 'GK', 185, ' Right'],[62, 'D', 185, ' Right'],[76, 'D', 193, ' Right'],[63, 'M', 183, ' Left'],\n",
    "        [72, 'A', 184, ' Left'],[72, 'M', 178, ' Left'],[63, 'D', 180, ' Right'],[73, 'M', 177, ' Right'],\n",
    "        [70, 'GK', 188, ' Right'],[64, 'M', 177, ' Left'],[65, 'GK', 187, ' Left'],[75, 'A', 186, ' Left'],\n",
    "        [74, 'D', 183, ' Right'],[70, 'GK', 189, ' Right'],[78, 'A', 179, ' Left'],[66, 'GK', 196, ' Right'],\n",
    "        [75, 'GK', 190, ' Left'],[67, 'GK', 189, ' Left'],[71, 'GK', 188, ' Left'],[70, 'A', 188, ' Left']]"
   ]
  },
  {
   "cell_type": "code",
   "execution_count": 21,
   "metadata": {},
   "outputs": [
    {
     "name": "stdout",
     "output_type": "stream",
     "text": [
      "[' Right' ' Right' ' Right' ' Right' ' Right' ' Right' ' Right' ' Left'\n",
      " ' Left' ' Left' ' Right' ' Right' ' Right' ' Left' ' Left' ' Left'\n",
      " ' Right' ' Right' ' Left' ' Right' ' Left' ' Left' ' Left' ' Left']\n"
     ]
    }
   ],
   "source": [
    "import numpy as np\n",
    "np_fifa = np.array(fifa)\n",
    "np_weights = np_fifa[:,0].astype(float)\n",
    "np_positions = np_fifa[:,1]\n",
    "np_side = np_fifa[:,3]\n",
    "print(np_side)"
   ]
  },
  {
   "cell_type": "code",
   "execution_count": 27,
   "metadata": {
    "scrolled": true
   },
   "outputs": [
    {
     "name": "stdout",
     "output_type": "stream",
     "text": [
      "Median weight of right goalkeepers: 66.0\n",
      "Median weight of left goalkeepers: 69.0\n"
     ]
    }
   ],
   "source": [
    "# Weights of the goalkeepers: gk_heights\n",
    "gk_r_weights = np_weights[(np_side == ' Right') & (np_positions == 'GK')]\n",
    "\n",
    "# Weights of the other players: other_heights\n",
    "gk_l_weights = np_weights[(np_side==' Left') & (np_positions =='GK')]\n",
    "\n",
    "# Print out the median height of goalkeepers. Replace 'None'\n",
    "print(\"Median weight of right goalkeepers: \" + str(np.median(gk_r_weights)))\n",
    "print(\"Median weight of left goalkeepers: \" + str(np.median(gk_l_weights)))"
   ]
  },
  {
   "cell_type": "markdown",
   "metadata": {},
   "source": [
    "5. Using the matrix `M1` create `M3` by transpose `M1` and multiplying it by itself. Sum `M3` & `M2`."
   ]
  },
  {
   "cell_type": "code",
   "execution_count": 29,
   "metadata": {},
   "outputs": [],
   "source": [
    "M1 = [[8], \n",
    "      [12], \n",
    "      [-11]]\n",
    "\n",
    "M2 = [[3, 16, -6],\n",
    "      [9, 7, -4], \n",
    "      [-1, 3, 13]]"
   ]
  },
  {
   "cell_type": "code",
   "execution_count": 31,
   "metadata": {},
   "outputs": [
    {
     "name": "stdout",
     "output_type": "stream",
     "text": [
      "[[  67  112  -94]\n",
      " [ 105  151 -136]\n",
      " [ -89 -129  134]]\n"
     ]
    }
   ],
   "source": [
    "M1 = np.array(M1)\n",
    "M2 = np.array(M2)\n",
    "M3 = M1 * M1.T\n",
    "print(M3 + M2)"
   ]
  },
  {
   "cell_type": "markdown",
   "metadata": {},
   "source": [
    "**expected output:**\n",
    "\n",
    "`array([[  67,  112,  -94],\n",
    "       [ 105,  151, -136],\n",
    "       [ -89, -129,  134]])`"
   ]
  },
  {
   "cell_type": "markdown",
   "metadata": {},
   "source": [
    "6. Create a function `text_analyzer` that takes as parameter a `path` and returns the most frequent word and the statistics of the frequencies on the document. `text_analyzer` uses other functions to get its final output. Go function by function below and complete them so that you get the correct output on `create_word_dic`, `most_frequent_word`, `np_word_statistics`."
   ]
  },
  {
   "cell_type": "code",
   "execution_count": 32,
   "metadata": {},
   "outputs": [],
   "source": [
    "def create_word_dic(words):\n",
    "    '''\n",
    "    Creates a dictionary with words as keys and frequency of that word on text as values.\n",
    "    '''\n",
    "    dic = {}\n",
    "    for w in words:\n",
    "        if w in dic.keys():\n",
    "            dic[w] += 1\n",
    "        else:\n",
    "            dic[w] = 1\n",
    "    return dic"
   ]
  },
  {
   "cell_type": "code",
   "execution_count": 33,
   "metadata": {},
   "outputs": [],
   "source": [
    "def most_frequent_word(dic):\n",
    "    '''\n",
    "    Finds the most frequent word from a dic of {words: count}.\n",
    "    '''\n",
    "    acc = 0\n",
    "    for k, w in dic.items():\n",
    "        if w > acc:\n",
    "            acc = w\n",
    "            most_frequent_word = k\n",
    "    return most_frequent_word"
   ]
  },
  {
   "cell_type": "code",
   "execution_count": 34,
   "metadata": {},
   "outputs": [],
   "source": [
    "def np_word_statistic(dic):\n",
    "    '''\n",
    "    Uses numpy to effitiently compute statistics from a dic of {word: count}.\n",
    "    '''\n",
    "    np_dic = np.array([*dic.items()])\n",
    "    np_dic_values = np_dic[:,1].astype(float)\n",
    "    np_dic_mean = np_dic_values.mean()\n",
    "    np_dic_std = np_dic_values.std()\n",
    "    return np_dic_mean, np_dic_std"
   ]
  },
  {
   "cell_type": "code",
   "execution_count": 37,
   "metadata": {},
   "outputs": [],
   "source": [
    "def text_analyzer(path):\n",
    "    with open(path) as file:\n",
    "        words = file.read().lower().split()\n",
    "        dic = create_word_dic(words)\n",
    "        mfw = most_frequent_word(dic)\n",
    "        meanz, stdz = np_word_statistic(dic)\n",
    "        print(f'Most frequent word is \"{mfw}\"')\n",
    "        print(f'Mean word frequency on text: {round(meanz, 2)} with a standard deviation of {round(stdz, 2)}')"
   ]
  },
  {
   "cell_type": "code",
   "execution_count": 36,
   "metadata": {
    "scrolled": true
   },
   "outputs": [
    {
     "name": "stdout",
     "output_type": "stream",
     "text": [
      "Most frequent word is \"the\"\n",
      "Mean word frequency on text: 1.45 with a standard deviation of 1.35\n"
     ]
    }
   ],
   "source": [
    "path = '../data/13. Importando datos en Python/moby_dick.txt'\n",
    "text_analyzer(path)"
   ]
  },
  {
   "cell_type": "markdown",
   "metadata": {},
   "source": [
    "**expected output:** \n",
    "\n",
    "Most frequent word is \"the\"\n",
    "\n",
    "Mean word frequency on text: 1.45 with a standard deviation of 1.35"
   ]
  }
 ],
 "metadata": {
  "kernelspec": {
   "display_name": "Python 3",
   "language": "python",
   "name": "python3"
  },
  "language_info": {
   "codemirror_mode": {
    "name": "ipython",
    "version": 3
   },
   "file_extension": ".py",
   "mimetype": "text/x-python",
   "name": "python",
   "nbconvert_exporter": "python",
   "pygments_lexer": "ipython3",
   "version": "3.8.5"
  }
 },
 "nbformat": 4,
 "nbformat_minor": 4
}
