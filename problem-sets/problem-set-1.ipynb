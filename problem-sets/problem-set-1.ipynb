{
 "cells": [
  {
   "cell_type": "markdown",
   "metadata": {},
   "source": [
    "1. Create a list called `my_house` which contains the name and the size of every place of the house as sublists."
   ]
  },
  {
   "cell_type": "code",
   "execution_count": 13,
   "metadata": {},
   "outputs": [
    {
     "name": "stdout",
     "output_type": "stream",
     "text": [
      "[['hallway', 11.25], ['kitchen', 18.0], ['living room', 20.0], ['bedroom', 10.75], ['bathroom', 9.5], ['poolhouse', 24.5]]\n"
     ]
    }
   ],
   "source": [
    "my_house = [['hallway', 11.25], ['kitchen', 18.0], ['living room', 20.0], ['bedroom', 10.75], ['bathroom', 9.5], ['poolhouse', 24.5]]\n",
    "print(my_house)"
   ]
  },
  {
   "cell_type": "markdown",
   "metadata": {},
   "source": [
    "**expected output**: `[['hallway', 11.25], ['kitchen', 18.0], ['living room', 20.0], ['bedroom', 10.75], ['bathroom', 9.5], ['poolhouse', 24.5]]`"
   ]
  },
  {
   "cell_type": "markdown",
   "metadata": {},
   "source": [
    "2. Delete the third elemnt of `my_house` and extend it with another place of the house you want."
   ]
  },
  {
   "cell_type": "code",
   "execution_count": 14,
   "metadata": {},
   "outputs": [
    {
     "name": "stdout",
     "output_type": "stream",
     "text": [
      "[['hallway', 11.25], ['kitchen', 18.0], ['bedroom', 10.75], ['bathroom', 9.5], ['poolhouse', 24.5], ['laundry room', 10.0]]\n"
     ]
    }
   ],
   "source": [
    "my_house.pop(2) # delete third element\n",
    "my_house += [['laundry room',10.0]] # extend it\n",
    "print(my_house)"
   ]
  },
  {
   "cell_type": "markdown",
   "metadata": {},
   "source": [
    "**expected output**: `[['hallway', 11.25], ['kitchen', 18.0], ['bedroom', 10.75], ['bathroom', 9.5], ['poolhouse', 24.5], ['patio', 13.0]]`"
   ]
  },
  {
   "cell_type": "markdown",
   "metadata": {},
   "source": [
    "3. Read the section `Practice` from the notebook `01. Introducción a Python` and comment on the QA why do you think you are getting that result on the lists `areas` and `areas_copy`"
   ]
  },
  {
   "cell_type": "markdown",
   "metadata": {},
   "source": [
    "4. **If-Else**: Fill the following code so it works correctly:"
   ]
  },
  {
   "cell_type": "code",
   "execution_count": 19,
   "metadata": {},
   "outputs": [
    {
     "name": "stdout",
     "output_type": "stream",
     "text": [
      "bed\n",
      "medium size, nice!\n"
     ]
    }
   ],
   "source": [
    "room = \"bed\"\n",
    "area = 14.0\n",
    "\n",
    "if room == \"kitchen\":\n",
    "    print(\"looking around in the kitchen.\")\n",
    "    if area > 15 :\n",
    "        print(\"big place!\")\n",
    "    elif area > 10 :\n",
    "        print(\"medium size, nice!\")\n",
    "    else :\n",
    "        print(\"pretty small.\")\n",
    "        \n",
    "if room == \"bed\":\n",
    "    print('bed')\n",
    "    if area > 15 :\n",
    "        print(\"big place!\")\n",
    "    elif area > 10 :\n",
    "        print(\"medium size, nice!\")\n",
    "    else :\n",
    "        print(\"pretty small.\")"
   ]
  },
  {
   "cell_type": "markdown",
   "metadata": {},
   "source": [
    "**expected output**: `bed` `medium size, nice!`"
   ]
  },
  {
   "cell_type": "markdown",
   "metadata": {},
   "source": [
    "5. **While loops**: Iterate over the list `my_house` and print the place of the house with its size. If you reach a place of the house called `poolhouse`, break the while loop and print `oh! a bathroom! be right back in 5' :)`"
   ]
  },
  {
   "cell_type": "code",
   "execution_count": 90,
   "metadata": {},
   "outputs": [
    {
     "name": "stdout",
     "output_type": "stream",
     "text": [
      "hallway : 11.25\n",
      "kitchen : 18.0\n",
      "living room : 20.0\n",
      "bedroom : 10.75\n",
      "oh! a bathroom! be right back in 5' :)\n"
     ]
    }
   ],
   "source": [
    "my_house = [['hallway', 11.25], ['kitchen', 18.0], ['living room', 20.0], ['bedroom', 10.75], ['bathroom', 9.5], ['poolhouse', 24.5]]\n",
    "i= -1\n",
    "j= 0\n",
    "while True:\n",
    "    i = i+1\n",
    "    if i<4:\n",
    "        print (my_house[i][j],\":\",my_house[i][j+1])\n",
    "    else:\n",
    "        print(\"oh! a bathroom! be right back in 5' :)\")\n",
    "        break"
   ]
  },
  {
   "cell_type": "markdown",
   "metadata": {},
   "source": [
    "**expected output**: \n",
    "`hallway: 11.25`\n",
    "`kitchen: 18.0`\n",
    "`living room: 20.0`\n",
    "`bedroom: 10.75`\n",
    "`oh! a bathroom! be right back in 5' :)`"
   ]
  },
  {
   "cell_type": "markdown",
   "metadata": {},
   "source": [
    "6. **For Loop**: Using the list of lists `house`, iterate over every element and for each one of them print its place and size using the following template: **the `name_of_place` is `size_of_place` sqm**. But if it's the living room do not print anything."
   ]
  },
  {
   "cell_type": "code",
   "execution_count": 1,
   "metadata": {},
   "outputs": [
    {
     "name": "stdout",
     "output_type": "stream",
     "text": [
      "the hallway is 11.25 sqm\n",
      "the kitchen is 18.0 sqm\n",
      "the bedroom is 10.75 sqm\n",
      "the bathroom is 9.5 sqm\n"
     ]
    }
   ],
   "source": [
    "house = [[\"hallway\", 11.25], \n",
    "         [\"kitchen\", 18.0], \n",
    "         [\"living room\", 20.0], \n",
    "         [\"bedroom\", 10.75], \n",
    "         [\"bathroom\", 9.50]]\n",
    "\n",
    "for x,y in house:\n",
    "    if x != \"living room\":\n",
    "        print(\"the\",x,\"is\",y,\"sqm\")\n",
    "        "
   ]
  },
  {
   "cell_type": "code",
   "execution_count": null,
   "metadata": {},
   "outputs": [],
   "source": []
  },
  {
   "cell_type": "markdown",
   "metadata": {},
   "source": [
    "**expected output**: \n",
    "`the hallway is 11.25 sqm`\n",
    "`the kitchen is 18.0 sqm`\n",
    "`the bedroom is 10.75 sqm`\n",
    "`the bathroom is 9.5 sqm`"
   ]
  },
  {
   "cell_type": "markdown",
   "metadata": {},
   "source": [
    "7. **Functions**: Create a function called `obiwan` that when called will print `Hello there`."
   ]
  },
  {
   "cell_type": "code",
   "execution_count": 97,
   "metadata": {},
   "outputs": [
    {
     "name": "stdout",
     "output_type": "stream",
     "text": [
      "Hello there\n"
     ]
    }
   ],
   "source": [
    "def obiwan():\n",
    "    print(\"Hello there\")\n",
    "obiwan()"
   ]
  },
  {
   "cell_type": "markdown",
   "metadata": {},
   "source": [
    "**expected output**: \n",
    "`Hello there`"
   ]
  }
 ],
 "metadata": {
  "kernelspec": {
   "display_name": "Python 3",
   "language": "python",
   "name": "python3"
  },
  "language_info": {
   "codemirror_mode": {
    "name": "ipython",
    "version": 3
   },
   "file_extension": ".py",
   "mimetype": "text/x-python",
   "name": "python",
   "nbconvert_exporter": "python",
   "pygments_lexer": "ipython3",
   "version": "3.8.5"
  }
 },
 "nbformat": 4,
 "nbformat_minor": 4
}
